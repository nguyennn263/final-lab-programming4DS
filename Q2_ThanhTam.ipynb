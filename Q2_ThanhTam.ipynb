{
 "cells": [
  {
   "cell_type": "markdown",
   "metadata": {},
   "source": [
    "# Đồ án cuối kì môn Lập trình cho Khoa học Dữ liệu - CQ2022/21"
   ]
  },
  {
   "cell_type": "markdown",
   "metadata": {},
   "source": [
    "## Mục lục\n",
    "- [I. Thông tin nhóm](#i)\n",
    "- [II. Thu thập dữ liệu](#ii)\n",
    "    - [1. Chủ đề](#ii1)\n",
    "    - [2. Nguồn dữ liệu](#ii2)\n",
    "    - [3. Cách thu thập](#ii3)\n",
    "- [III. Khám phá dữ liệu](#iii)\n",
    "- [IV. Đặt câu hỏi có ý nghĩa và trả lời](#iv)\n",
    "    - [1. Câu hỏi 1](#iv1)\n",
    "    - [2. Câu hỏi 2](#iv2)\n",
    "    - [3. Câu hỏi 3](#iv3)\n",
    "    - [4. Câu hỏi 4](#iv4)\n",
    "- [V. Nhận xét quá trình làm đồ án](#v)\n",
    "    - [1. Thành viên 1](#v1)\n",
    "    - [2. Thành viên 2](#v2)\n",
    "    - [3. Thành viên 3](#v3)\n",
    "    - [4. Ý kiến nhóm](#v4)\n",
    "- [Tài liệu tham khảo](#tltk)\n"
   ]
  },
  {
   "cell_type": "markdown",
   "metadata": {},
   "source": [
    "## I. Thông tin nhóm <a id=\"i\"></a>"
   ]
  },
  {
   "cell_type": "markdown",
   "metadata": {},
   "source": [
    "| Họ tên                | MSSV              | Công việc | Hoàn thành(%)|\n",
    "|-----------------------|-------------------|-----------|--------------|\n",
    "|Nguyễn Tiến Quốc      |   22120300        |           | 100%         |\n",
    "|Nguyễn Trung Quôc      |   22120301        |           | 100%         |\n",
    "|Võ Thành Tâm      |   22120324        |           | 100%         |"
   ]
  },
  {
   "cell_type": "markdown",
   "metadata": {},
   "source": [
    "## II. Thu thập dữ liệu <a id=\"ii\"></a>"
   ]
  },
  {
   "cell_type": "markdown",
   "metadata": {},
   "source": [
    "### 1. Chủ đề <a id=\"ii1\"></a>"
   ]
  },
  {
   "cell_type": "markdown",
   "metadata": {},
   "source": [
    "### 2. Nguồn dữ liệu <a id=\"ii2\"></a>"
   ]
  },
  {
   "cell_type": "markdown",
   "metadata": {},
   "source": [
    "### 3. Cách thu thập <a id=\"ii3\"></a>"
   ]
  },
  {
   "cell_type": "markdown",
   "metadata": {},
   "source": [
    "## III. Khám phá dữ liệu  <a id=\"iii\"></a>"
   ]
  },
  {
   "cell_type": "markdown",
   "metadata": {},
   "source": [
    "## IV. Đặt câu hỏi có ý nghĩa và trả lời  <a id=\"iv\"></a>"
   ]
  },
  {
   "cell_type": "markdown",
   "metadata": {},
   "source": [
    "### 1. Câu hỏi 1 <a id=\"iv1\"></a>"
   ]
  },
  {
   "cell_type": "markdown",
   "metadata": {},
   "source": [
    "### 2. Câu hỏi 2 <a id=\"iv2\"></a>\n",
    "### Xu hướng tiêu dùng hiện nay như thế nào?\n",
    "Xu hướng tiêu dùng laptop hiện nay là mối quan tâm của cả người mua và nhà sản xuất. Việc trả lời câu hỏi này giúp xác định thương hiệu hàng đầu, phân khúc giá phổ biến, và cấu hình được ưa chuộng. Người tiêu dùng sẽ dễ dàng lựa chọn sản phẩm phù hợp nhu cầu, trong khi nhà cung cấp tối ưu chiến lược kinh doanh, thiết kế sản phẩm sát với thị hiếu thị trường.\n",
    "\n",
    "Để trả lời câu hỏi này, nhóm sẽ tiến hành phân tích 2 ý chính sau:\n",
    "- Phân tích các đặc trưng riêng rẽ. Ở phần này, nhóm sẽ lần lượt trả lời các câu hỏi sau:\n",
    "  - Thương hiệu nào phổ biến nhất?\n",
    "  - Loại laptop được người dùng ưa chuộng nhất?\n",
    "  - Cấu hình phổ biến nhất là gì?\n",
    "  - Phân khúc giá phổ biến nhất là gì?\n",
    "  - Kích thước màn hình và trọng lượng ảnh hưởng thế nào đến hành vi tiêu dùng?\n",
    "- Phân tích mối quan hệ giữa các đặc trưng. Ở phần này, nhóm tập trung phân tích các mối quan hệ sau:\n",
    "  -  Loại laptop và cấu hình liên quan thế nào?\n",
    "  -  Trọng lượng và kích thước màn hình ảnh hưởng thế nào đến loại laptop?\n",
    "  -  Thương hiệu và giá có mối liên hệ gì không?\n",
    "  -  Cấu hình và giá ảnh hưởng thế nào đến quyết định mua sắm?"
   ]
  },
  {
   "cell_type": "code",
   "execution_count": null,
   "metadata": {
    "vscode": {
     "languageId": "plaintext"
    }
   },
   "outputs": [],
   "source": [
    "import pandas as pd\n",
    "import seaborn as sns\n",
    "import matplotlib.pyplot as plt\n",
    "\n",
    "# Load the dataset\n",
    "df = pd.read_csv('Dataset/laptop_price_cleaned.csv')\n",
    "\n",
    "# Determine the most popular company\n",
    "most_popular_company = df['Company'].value_counts().idxmax()\n",
    "print(f'Thương hiệu phổ biến nhất: {most_popular_company}')\n",
    "\n",
    "# Determine the most popular CPU manufacturer\n",
    "cpu_counts = df['CPU_company'].value_counts()\n",
    "most_popular_cpu = cpu_counts.idxmax()\n",
    "print(f'The most popular CPU manufacturer is: {most_popular_cpu}')\n",
    "\n",
    "# Determine the most popular GPU manufacturer\n",
    "gpu_counts = df['GPU_company'].value_counts()\n",
    "most_popular_gpu = gpu_counts.idxmax()\n",
    "print(f'The most popular GPU manufacturer is: {most_popular_gpu}')\n",
    "\n",
    "# Determine the most common RAM size\n",
    "ram_counts = df['Ram'].value_counts()\n",
    "most_common_ram = ram_counts.idxmax()\n",
    "print(f'The most common RAM size is: {most_common_ram} GB')\n",
    "\n",
    "# Analyze the relationship between laptop type and RAM size\n",
    "plt.figure(figsize=(12, 6))\n",
    "sns.countplot(data=df, x='TypeName', hue='Ram')\n",
    "plt.title('Relationship between Laptop Type and RAM Size')\n",
    "plt.xlabel('Laptop Type')\n",
    "plt.ylabel('Count')\n",
    "plt.legend(title='RAM Size (GB)')\n",
    "plt.show()"
   ]
  },
  {
   "cell_type": "code",
   "execution_count": null,
   "metadata": {
    "vscode": {
     "languageId": "plaintext"
    }
   },
   "outputs": [],
   "source": []
  },
  {
   "cell_type": "markdown",
   "metadata": {},
   "source": [
    "### 3. Câu hỏi 3 <a id=\"iv3\"></a>"
   ]
  },
  {
   "cell_type": "markdown",
   "metadata": {},
   "source": [
    "### 4. Câu hỏi 4 (bonus) <a id=\"iv4\"></a>"
   ]
  },
  {
   "cell_type": "markdown",
   "metadata": {},
   "source": [
    "## V. Nhận xét quá trình làm đồ án  <a id=\"v\"></a>"
   ]
  },
  {
   "cell_type": "markdown",
   "metadata": {},
   "source": [
    "### 1. Thành viên 1  <a id=\"v1\"></a>"
   ]
  },
  {
   "cell_type": "markdown",
   "metadata": {},
   "source": [
    "### 2. Thành viên 2  <a id=\"v2\"></a>"
   ]
  },
  {
   "cell_type": "markdown",
   "metadata": {},
   "source": [
    "### 3. Thành viên 3  <a id=\"v3\"></a>"
   ]
  },
  {
   "cell_type": "markdown",
   "metadata": {},
   "source": [
    "### 4. Ý kiến nhóm  <a id=\"v4\"></a>"
   ]
  },
  {
   "cell_type": "markdown",
   "metadata": {},
   "source": [
    "Nếu có thêm thời gian thì làm gì?"
   ]
  },
  {
   "cell_type": "markdown",
   "metadata": {},
   "source": [
    "## Tài liệu tham khảo  <a id=\"tltk\"></a>"
   ]
  }
 ],
 "metadata": {
  "language_info": {
   "name": "python"
  }
 },
 "nbformat": 4,
 "nbformat_minor": 2
}
