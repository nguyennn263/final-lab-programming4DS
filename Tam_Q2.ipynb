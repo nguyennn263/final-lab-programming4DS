{
 "cells": [
  {
   "cell_type": "markdown",
   "metadata": {},
   "source": [
    "# Đồ án cuối kì môn Lập trình cho Khoa học Dữ liệu - CQ2022/21"
   ]
  },
  {
   "cell_type": "markdown",
   "metadata": {},
   "source": [
    "## Mục lục\n",
    "- [I. Thông tin nhóm](#i)\n",
    "- [II. Thu thập dữ liệu](#ii)\n",
    "    - [1. Chủ đề](#ii1)\n",
    "    - [2. Nguồn dữ liệu](#ii2)\n",
    "    - [3. Cách thu thập](#ii3)\n",
    "- [III. Khám phá dữ liệu](#iii)\n",
    "- [IV. Đặt câu hỏi có ý nghĩa và trả lời](#iv)\n",
    "    - [1. Câu hỏi 1](#iv1)\n",
    "    - [2. Câu hỏi 2](#iv2)\n",
    "    - [3. Câu hỏi 3](#iv3)\n",
    "    - [4. Câu hỏi 4](#iv4)\n",
    "- [V. Nhận xét quá trình làm đồ án](#v)\n",
    "    - [1. Thành viên 1](#v1)\n",
    "    - [2. Thành viên 2](#v2)\n",
    "    - [3. Thành viên 3](#v3)\n",
    "    - [4. Ý kiến nhóm](#v4)\n",
    "- [Tài liệu tham khảo](#tltk)\n"
   ]
  },
  {
   "cell_type": "markdown",
   "metadata": {},
   "source": [
    "## I. Thông tin nhóm <a id=\"i\"></a>"
   ]
  },
  {
   "cell_type": "markdown",
   "metadata": {},
   "source": [
    "| Họ tên                | MSSV              | Công việc | Hoàn thành(%)|\n",
    "|-----------------------|-------------------|-----------|--------------|\n",
    "|Nguyễn Tiến Quốc      |   22120300        |           | 100%         |\n",
    "|Nguyễn Trung Quôc      |   22120301        |           | 100%         |\n",
    "|Võ Thành Tâm      |   22120324        |           | 100%         |"
   ]
  },
  {
   "cell_type": "markdown",
   "metadata": {},
   "source": [
    "## II. Thu thập dữ liệu <a id=\"ii\"></a>"
   ]
  },
  {
   "cell_type": "markdown",
   "metadata": {},
   "source": [
    "### 1. Chủ đề <a id=\"ii1\"></a>\n",
    "Phân tích giá laptop và các yếu tố ảnh hưởng đến giá cả. Mục tiêu chính là tìm hiểu các thông số kỹ thuật và  mối quan hệ giữa chúng (như bộ xử lý, RAM, ổ cứng, thương hiệu,...) với mức giá của sản phẩm. Qua đó, chúng ta có thể phát hiện các xu hướng giá cả, giúp đưa ra những dự đoán về giá của laptop dựa trên các yếu tố đặc trưng."
   ]
  },
  {
   "cell_type": "markdown",
   "metadata": {},
   "source": [
    "### 2. Nguồn dữ liệu <a id=\"ii2\"></a>\n",
    "Dữ liệu cho nghiên cứu này được lấy từ dataset \"Laptop Prices\" có sẵn trên Kaggle, một nền tảng chia sẻ dữ liệu phổ biến. Dataset này bao gồm thông tin chi tiết về các mẫu laptop, bao gồm các đặc điểm như:\n",
    "- Giá\n",
    "- Hãng sản xuất\n",
    "- Thông số kỹ thuật: Bao gồm bộ xử lý, dung lượng RAM, kích thước màn hình, loại ổ cứng, và các yếu tố khác,...\n",
    "\n",
    "Nguồn: Kaggle, [Laptop Prices Dataset](https://www.kaggle.com/datasets/owm4096/laptop-prices/data)"
   ]
  },
  {
   "cell_type": "markdown",
   "metadata": {},
   "source": [
    "### 3. Cách thu thập <a id=\"ii3\"></a>\n",
    "Việc thu thập dữ liệu từ Kaggle được thực hiện qua các bước sau:\n",
    "- Truy cập và tải xuống dataset: Người dùng cần truy cập trang dataset trên Kaggle, đăng nhập  và tải file dữ liệu (thường ở định dạng CSV).\n",
    "- Kiểm tra và chuẩn bị dữ liệu: Sau khi tải xuống, giải né file dữ liệu (nếu cần), sau đó đọc file dữ liệu bằng các công cụ hỗ trợ, như thư viện `pandas'của python,..\n",
    "- Làm sạch và xử lý dữ liệu:\n",
    "  - Kiểm tra dữ liệu có bị thiếu hoặc bất thường không, có thể thay thế hoặc xóa bỏ nếu xuất hiện.\n",
    "  - Chuẩn hóa dữ liệu (nếu cần), như chuyển đổi các đơn vị hoặc định dạng (ví dụ, giá trị RAM có thể cần chuyển đổi về cùng đơn vị, như GB).\n",
    "- Lưu trữ dữ liệu: Sau khi thu thập và làm sạch, dữ liệu được lưu trữ trong các file CSV hoặc định dạng, hình thức khác để có thể sử dụng cho các phân tích tiếp theo."
   ]
  },
  {
   "cell_type": "markdown",
   "metadata": {},
   "source": [
    "## III. Khám phá dữ liệu  <a id=\"iii\"></a>"
   ]
  },
  {
   "cell_type": "markdown",
   "metadata": {},
   "source": [
    "## IV. Đặt câu hỏi có ý nghĩa và trả lời  <a id=\"iv\"></a>"
   ]
  },
  {
   "cell_type": "markdown",
   "metadata": {},
   "source": [
    "### 1. Câu hỏi 1 <a id=\"iv1\"></a>"
   ]
  },
  {
   "cell_type": "markdown",
   "metadata": {},
   "source": [
    "### 2. Câu hỏi 2 <a id=\"iv2\"></a>\n",
    "### Làm thế nào một người tiêu dùng có thể xác định đúng loại laptop phù hợp với nhu cầu bản thân?\n",
    "Trả lời câu hỏi này giúp người tiêu dùng hiểu rõ các tiêu chí quan trọng để chọn mua laptop, như mục đích sử dụng, thương hiệu, bộ vi xử lí, trọng lượng, dung lượng RAM và độ phân giải màn hình... Điều này giúp họ đưa ra quyết định thông minh, chọn được sản phẩm phù hợp nhất với nhu cầu công việc, học tập hoặc giải trí của mình.\n",
    "\n",
    "Để trả lời câu hỏi này, nhóm sẽ tiến hành lần lượt trả lời các câu hỏi sau:\n",
    "  - Thương hiệu nào phổ biến nhất?\n",
    "  - Loại laptop được người dùng ưa chuộng nhất?\n",
    "  - Các hãng sản xuất CPU và GPU nào được ưa chuộng?\n",
    "  - Dung lượng RAM phổ biến nhất là gì?\n",
    "  - Trọng lượng laptop phân bố như thế nào?\n",
    "  - Độ phân giải màn hình phổ biến nhất là?"
   ]
  },
  {
   "cell_type": "markdown",
   "metadata": {},
   "source": [
    "Trước khi phân tích, ta sẽ thêm các thư viện cần thiết và đọc dữ liệu từ file `laptop_price_cleaned.csv` - Đây là file dữ liệu chứa các thông tin cần thiết."
   ]
  },
  {
   "cell_type": "code",
   "execution_count": 14,
   "metadata": {},
   "outputs": [],
   "source": [
    "# Thư viên cần thiết\n",
    "import numpy as np\n",
    "import pandas as pd\n",
    "import matplotlib.pyplot as plt\n",
    "import seaborn as sns\n",
    "import re\n",
    "\n",
    "# Đọc dữ liệu từ file bằng pandas\n",
    "df = pd.read_csv('./Dataset/laptop_price_cleaned.csv', encoding='Latin-1')"
   ]
  },
  {
   "cell_type": "markdown",
   "metadata": {},
   "source": [
    "Ta xem qua 5 dòng dữ liệu đầu"
   ]
  },
  {
   "cell_type": "code",
   "execution_count": 16,
   "metadata": {},
   "outputs": [
    {
     "data": {
      "text/html": [
       "<div>\n",
       "<style scoped>\n",
       "    .dataframe tbody tr th:only-of-type {\n",
       "        vertical-align: middle;\n",
       "    }\n",
       "\n",
       "    .dataframe tbody tr th {\n",
       "        vertical-align: top;\n",
       "    }\n",
       "\n",
       "    .dataframe thead th {\n",
       "        text-align: right;\n",
       "    }\n",
       "</style>\n",
       "<table border=\"1\" class=\"dataframe\">\n",
       "  <thead>\n",
       "    <tr style=\"text-align: right;\">\n",
       "      <th></th>\n",
       "      <th>Company</th>\n",
       "      <th>Product</th>\n",
       "      <th>TypeName</th>\n",
       "      <th>Inches</th>\n",
       "      <th>Ram</th>\n",
       "      <th>OpSys</th>\n",
       "      <th>Weight</th>\n",
       "      <th>Price_euros</th>\n",
       "      <th>Screen</th>\n",
       "      <th>ScreenW</th>\n",
       "      <th>...</th>\n",
       "      <th>RetinaDisplay</th>\n",
       "      <th>CPU_company</th>\n",
       "      <th>CPU_freq</th>\n",
       "      <th>CPU_model</th>\n",
       "      <th>PrimaryStorage</th>\n",
       "      <th>SecondaryStorage</th>\n",
       "      <th>PrimaryStorageType</th>\n",
       "      <th>SecondaryStorageType</th>\n",
       "      <th>GPU_company</th>\n",
       "      <th>GPU_model</th>\n",
       "    </tr>\n",
       "  </thead>\n",
       "  <tbody>\n",
       "    <tr>\n",
       "      <th>0</th>\n",
       "      <td>Apple</td>\n",
       "      <td>MacBook Pro</td>\n",
       "      <td>Ultrabook</td>\n",
       "      <td>13</td>\n",
       "      <td>8</td>\n",
       "      <td>macOS</td>\n",
       "      <td>1.37</td>\n",
       "      <td>1339.69</td>\n",
       "      <td>Standard</td>\n",
       "      <td>2560</td>\n",
       "      <td>...</td>\n",
       "      <td>Yes</td>\n",
       "      <td>Intel</td>\n",
       "      <td>2.3</td>\n",
       "      <td>Core i5</td>\n",
       "      <td>128</td>\n",
       "      <td>0</td>\n",
       "      <td>SSD</td>\n",
       "      <td>No</td>\n",
       "      <td>Intel</td>\n",
       "      <td>Iris Plus Graphics 640</td>\n",
       "    </tr>\n",
       "    <tr>\n",
       "      <th>1</th>\n",
       "      <td>Apple</td>\n",
       "      <td>Macbook Air</td>\n",
       "      <td>Ultrabook</td>\n",
       "      <td>13</td>\n",
       "      <td>8</td>\n",
       "      <td>macOS</td>\n",
       "      <td>1.34</td>\n",
       "      <td>898.94</td>\n",
       "      <td>Standard</td>\n",
       "      <td>1440</td>\n",
       "      <td>...</td>\n",
       "      <td>No</td>\n",
       "      <td>Intel</td>\n",
       "      <td>1.8</td>\n",
       "      <td>Core i5</td>\n",
       "      <td>128</td>\n",
       "      <td>0</td>\n",
       "      <td>Flash Storage</td>\n",
       "      <td>No</td>\n",
       "      <td>Intel</td>\n",
       "      <td>HD Graphics 6000</td>\n",
       "    </tr>\n",
       "    <tr>\n",
       "      <th>2</th>\n",
       "      <td>HP</td>\n",
       "      <td>250 G6</td>\n",
       "      <td>Notebook</td>\n",
       "      <td>15</td>\n",
       "      <td>8</td>\n",
       "      <td>No OS</td>\n",
       "      <td>1.86</td>\n",
       "      <td>575.00</td>\n",
       "      <td>Full HD</td>\n",
       "      <td>1920</td>\n",
       "      <td>...</td>\n",
       "      <td>No</td>\n",
       "      <td>Intel</td>\n",
       "      <td>2.5</td>\n",
       "      <td>Core i5 7200U</td>\n",
       "      <td>256</td>\n",
       "      <td>0</td>\n",
       "      <td>SSD</td>\n",
       "      <td>No</td>\n",
       "      <td>Intel</td>\n",
       "      <td>HD Graphics 620</td>\n",
       "    </tr>\n",
       "    <tr>\n",
       "      <th>3</th>\n",
       "      <td>Apple</td>\n",
       "      <td>MacBook Pro</td>\n",
       "      <td>Ultrabook</td>\n",
       "      <td>15</td>\n",
       "      <td>16</td>\n",
       "      <td>macOS</td>\n",
       "      <td>1.83</td>\n",
       "      <td>2537.45</td>\n",
       "      <td>Standard</td>\n",
       "      <td>2880</td>\n",
       "      <td>...</td>\n",
       "      <td>Yes</td>\n",
       "      <td>Intel</td>\n",
       "      <td>2.7</td>\n",
       "      <td>Core i7</td>\n",
       "      <td>512</td>\n",
       "      <td>0</td>\n",
       "      <td>SSD</td>\n",
       "      <td>No</td>\n",
       "      <td>AMD</td>\n",
       "      <td>Radeon Pro 455</td>\n",
       "    </tr>\n",
       "    <tr>\n",
       "      <th>4</th>\n",
       "      <td>Apple</td>\n",
       "      <td>MacBook Pro</td>\n",
       "      <td>Ultrabook</td>\n",
       "      <td>13</td>\n",
       "      <td>8</td>\n",
       "      <td>macOS</td>\n",
       "      <td>1.37</td>\n",
       "      <td>1803.60</td>\n",
       "      <td>Standard</td>\n",
       "      <td>2560</td>\n",
       "      <td>...</td>\n",
       "      <td>Yes</td>\n",
       "      <td>Intel</td>\n",
       "      <td>3.1</td>\n",
       "      <td>Core i5</td>\n",
       "      <td>256</td>\n",
       "      <td>0</td>\n",
       "      <td>SSD</td>\n",
       "      <td>No</td>\n",
       "      <td>Intel</td>\n",
       "      <td>Iris Plus Graphics 650</td>\n",
       "    </tr>\n",
       "  </tbody>\n",
       "</table>\n",
       "<p>5 rows × 23 columns</p>\n",
       "</div>"
      ],
      "text/plain": [
       "  Company      Product   TypeName  Inches  Ram  OpSys  Weight  Price_euros  \\\n",
       "0   Apple  MacBook Pro  Ultrabook      13    8  macOS    1.37      1339.69   \n",
       "1   Apple  Macbook Air  Ultrabook      13    8  macOS    1.34       898.94   \n",
       "2      HP       250 G6   Notebook      15    8  No OS    1.86       575.00   \n",
       "3   Apple  MacBook Pro  Ultrabook      15   16  macOS    1.83      2537.45   \n",
       "4   Apple  MacBook Pro  Ultrabook      13    8  macOS    1.37      1803.60   \n",
       "\n",
       "     Screen  ScreenW  ...  RetinaDisplay CPU_company CPU_freq      CPU_model  \\\n",
       "0  Standard     2560  ...            Yes       Intel      2.3        Core i5   \n",
       "1  Standard     1440  ...             No       Intel      1.8        Core i5   \n",
       "2   Full HD     1920  ...             No       Intel      2.5  Core i5 7200U   \n",
       "3  Standard     2880  ...            Yes       Intel      2.7        Core i7   \n",
       "4  Standard     2560  ...            Yes       Intel      3.1        Core i5   \n",
       "\n",
       "  PrimaryStorage  SecondaryStorage PrimaryStorageType  SecondaryStorageType  \\\n",
       "0            128                 0                SSD                    No   \n",
       "1            128                 0      Flash Storage                    No   \n",
       "2            256                 0                SSD                    No   \n",
       "3            512                 0                SSD                    No   \n",
       "4            256                 0                SSD                    No   \n",
       "\n",
       "   GPU_company               GPU_model  \n",
       "0        Intel  Iris Plus Graphics 640  \n",
       "1        Intel        HD Graphics 6000  \n",
       "2        Intel         HD Graphics 620  \n",
       "3          AMD          Radeon Pro 455  \n",
       "4        Intel  Iris Plus Graphics 650  \n",
       "\n",
       "[5 rows x 23 columns]"
      ]
     },
     "execution_count": 16,
     "metadata": {},
     "output_type": "execute_result"
    }
   ],
   "source": [
    "df.head(5)"
   ]
  },
  {
   "cell_type": "markdown",
   "metadata": {},
   "source": [
    "### 2.1 Thương hiệu nào phổ biến nhất?\n",
    "Thương hiệu phổ biến cho thấy mức độ tin cậy và lựa chọn hàng đầu của người tiêu dùng. Việc phân tích thương hiệu phổ biến sẽ giúp nắm bắt xu hướng tiêu dùng của người dùng.  \n",
    "Đầu tiên, ta tìm hiểu hiện nay có các thương hiệu phổ biến nào?"
   ]
  },
  {
   "cell_type": "code",
   "execution_count": 18,
   "metadata": {},
   "outputs": [
    {
     "data": {
      "text/plain": [
       "array(['Apple', 'HP', 'Acer', 'Asus', 'Dell', 'Lenovo', 'Chuwi', 'MSI',\n",
       "       'Microsoft', 'Toshiba', 'Huawei', 'Xiaomi', 'Vero', 'Razer',\n",
       "       'Mediacom', 'Samsung', 'Google', 'Fujitsu', 'LG'], dtype=object)"
      ]
     },
     "execution_count": 18,
     "metadata": {},
     "output_type": "execute_result"
    }
   ],
   "source": [
    "df['Company'].unique()"
   ]
  },
  {
   "cell_type": "markdown",
   "metadata": {},
   "source": [
    "Như vậy, có 19 thương hiệu phổ biến, bao gồm:\n",
    "- Apple\n",
    "- HP\n",
    "- Acer\n",
    "- Asus\n",
    "- Dell\n",
    "- Lenovo\n",
    "- Chuwi\n",
    "- MSI\n",
    "- Microsoft\n",
    "- Toshiba\n",
    "- Huawei\n",
    "- Xiaomi\n",
    "- Vero\n",
    "- Razer\n",
    "- Mediacom\n",
    "- Samsung\n",
    "- Google\n",
    "- Fujitsu\n",
    "- LG"
   ]
  },
  {
   "cell_type": "markdown",
   "metadata": {},
   "source": [
    "Để biết được thương hiệu nào phổ biết nhất, ta tiến hành đếm số sản phẩm của từng thương hiệu."
   ]
  },
  {
   "cell_type": "code",
   "execution_count": 21,
   "metadata": {},
   "outputs": [
    {
     "data": {
      "text/plain": [
       "Company\n",
       "Dell         291\n",
       "Lenovo       289\n",
       "HP           267\n",
       "Asus         152\n",
       "Acer         101\n",
       "MSI           54\n",
       "Toshiba       48\n",
       "Apple         21\n",
       "Samsung        9\n",
       "Razer          7\n",
       "Mediacom       7\n",
       "Microsoft      6\n",
       "Xiaomi         4\n",
       "Vero           4\n",
       "Chuwi          3\n",
       "Google         3\n",
       "Fujitsu        3\n",
       "LG             3\n",
       "Huawei         2\n",
       "Name: count, dtype: int64"
      ]
     },
     "execution_count": 21,
     "metadata": {},
     "output_type": "execute_result"
    }
   ],
   "source": [
    "# Đếm số lượng sản phẩm từng thương hiệu\n",
    "brand_counts = df['Company'].value_counts()\n",
    "brand_counts"
   ]
  },
  {
   "cell_type": "markdown",
   "metadata": {},
   "source": [
    "Từ kết quả, ta thấy các thương hiệu **Dell**, **Lenovo** và **Lenovo** có số lượng sản phẩm khá lớn. Và **Dell** là thương hiệu phổ biến nhất với số lượng sản phẩm là **291**."
   ]
  },
  {
   "cell_type": "markdown",
   "metadata": {},
   "source": [
    "Ta sẽ trực quan bằng biểu đồ để có cái nhìn tổng quan hơn."
   ]
  },
  {
   "cell_type": "code",
   "execution_count": 24,
   "metadata": {},
   "outputs": [
    {
     "data": {
      "image/png": "[encoded data removed]",
      "text/plain": [
       "<Figure size 1000x600 with 1 Axes>"
      ]
     },
     "metadata": {},
     "output_type": "display_data"
    }
   ],
   "source": [
    "# Vẽ biểu đồ số lượng sản phẩm từng thương hiệu\n",
    "plt.figure(figsize=(10, 6))\n",
    "brand_counts.plot(kind='barh')\n",
    "plt.title('Số lượng sản phẩm từng thương hiệu')\n",
    "plt.xlabel('Số lượng')\n",
    "plt.ylabel('Thương hiệu')\n",
    "plt.show()"
   ]
  },
  {
   "cell_type": "markdown",
   "metadata": {},
   "source": [
    "Ta có thể rút được vài nhận xét:\n",
    "- Có nhiều thương hiệu khác nhau tham gia vào thị trường này, cho thấy sự cạnh tranh khá cao.\n",
    "- Các thương hiệu có sự khác biệt rõ rệt về số lượng sản phẩm, cho thấy sự phân hóa mạnh mẽ.\n",
    "- Thương hiệu phổ biến nhất là **Dell**, kế đến là **Lenovo**, **HP**"
   ]
  },
  {
   "cell_type": "markdown",
   "metadata": {},
   "source": [
    "### 2.2 Loại laptop được người dùng ưa chuộng nhất?\n",
    "Loại laptop sẽ phản ánh nhu cầu sử dụng cụ thể của người tiêu dùng. Vì vậy, việc xác định loại laptop ưa chuộng giúp ta nhận diện  được xu hướng tiêu dùng và mục đích sử dụng chính của người mua.  \n",
    "Đầu tiên, ta xem trên thị trường có những loại laptop nào?"
   ]
  },
  {
   "cell_type": "code",
   "execution_count": 27,
   "metadata": {},
   "outputs": [
    {
     "data": {
      "text/plain": [
       "array(['Ultrabook', 'Notebook', 'Netbook', 'Gaming', '2 in 1 Convertible',\n",
       "       'Workstation'], dtype=object)"
      ]
     },
     "execution_count": 27,
     "metadata": {},
     "output_type": "execute_result"
    }
   ],
   "source": [
    "df['TypeName'].unique()"
   ]
  },
  {
   "cell_type": "markdown",
   "metadata": {},
   "source": [
    "Như vậy, trên thị trường có 6 loại laptop:\n",
    "- **Ultrabook**: Laptop mỏng nhẹ, pin lâu, dành cho văn phòng và di chuyển.\n",
    "- **Notebook**: Laptop tiêu chuẩn, cân bằng hiệu năng và giá cả.\n",
    "- **Netbook**: Laptop nhỏ gọn, cấu hình thấp, phù hợp nhu cầu cơ bản.\n",
    "- **Gaming**: Laptop hiệu năng cao, chuyên chơi game và đồ họa.\n",
    "- **2 in 1 Convertible**: Laptop lai, có thể gập thành tablet, đa năng.\n",
    "- **WorkStation**: Laptop cấu hình cực mạnh, dành cho công việc chuyên môn cao."
   ]
  },
  {
   "cell_type": "markdown",
   "metadata": {},
   "source": [
    "Tương tự, ta sẽ tính toán số lượng sản phẩm ứng với từng loại Laptop."
   ]
  },
  {
   "cell_type": "code",
   "execution_count": 30,
   "metadata": {},
   "outputs": [
    {
     "data": {
      "text/plain": [
       "TypeName\n",
       "Notebook              707\n",
       "Gaming                205\n",
       "Ultrabook             194\n",
       "2 in 1 Convertible    117\n",
       "Workstation            28\n",
       "Netbook                23\n",
       "Name: count, dtype: int64"
      ]
     },
     "execution_count": 30,
     "metadata": {},
     "output_type": "execute_result"
    }
   ],
   "source": [
    "type_counts = df['TypeName'].value_counts()\n",
    "type_counts"
   ]
  },
  {
   "cell_type": "markdown",
   "metadata": {},
   "source": [
    "Để dễ quan sát, ta vẽ biểu đồ bar chart đễ trực quan."
   ]
  },
  {
   "cell_type": "code",
   "execution_count": 32,
   "metadata": {},
   "outputs": [
    {
     "data": {
      "image/png": "[encoded data removed]",
      "text/plain": [
       "<Figure size 1000x600 with 1 Axes>"
      ]
     },
     "metadata": {},
     "output_type": "display_data"
    }
   ],
   "source": [
    "# Biểu đồ số lượng sản phẩm từng loại laptop\n",
    "plt.figure(figsize=(10, 6))\n",
    "type_counts.plot(kind='barh')\n",
    "plt.title('Số lượng sản phẩm từng loại laptop')\n",
    "plt.xlabel('Số lượng')\n",
    "plt.ylabel('Loại laptop')\n",
    "plt.show()"
   ]
  },
  {
   "cell_type": "markdown",
   "metadata": {},
   "source": [
    "Từ biểu đồ, ta có nhận xét:\n",
    "- Laptop Notebook chiếm ưu thế: Loại laptop này có số lượng sản phẩm bán ra lớn nhất, vượt trội so với các loại khác. Có vẻ người dùng khá ưa chuộng loại laptop này.\n",
    "- Các loại laptop khác có số lượng vừa phải, không vượt trội như `Notebook', có thể do chúng chỉ phục vụ cho một số đối tượng người dùng cụ thể.\n",
    "- Nhìn chung, thị trường laptop cũng khá đa dạng, có nhiều loại laptop khác nhau."
   ]
  },
  {
   "cell_type": "markdown",
   "metadata": {},
   "source": [
    "#### 2.3 Các hãng sản xuất CPU và GPU nào được ưa chuộng?\n",
    "CPU và GPU là yếu tố then chốt quyết định hiệu năng, ảnh hưởng trực tiếp đến lựa chọn của người tiêu dùng. Vì thế, ta sẽ tìm hiểu xem, các hãng sản xuất nào đang được người dùng ưu chuộng.  \n",
    "Đầu tiên, ta xem trên thị trường có những hãng sản xuất CPU và GPU nào."
   ]
  },
  {
   "cell_type": "code",
   "execution_count": 35,
   "metadata": {},
   "outputs": [
    {
     "data": {
      "text/plain": [
       "array(['Intel', 'AMD', 'Samsung'], dtype=object)"
      ]
     },
     "execution_count": 35,
     "metadata": {},
     "output_type": "execute_result"
    }
   ],
   "source": [
    "df['CPU_company'].unique()"
   ]
  },
  {
   "cell_type": "code",
   "execution_count": 36,
   "metadata": {},
   "outputs": [
    {
     "data": {
      "text/plain": [
       "array(['Intel', 'AMD', 'Nvidia', 'ARM'], dtype=object)"
      ]
     },
     "execution_count": 36,
     "metadata": {},
     "output_type": "execute_result"
    }
   ],
   "source": [
    "df['GPU_company'].unique()"
   ]
  },
  {
   "cell_type": "markdown",
   "metadata": {},
   "source": [
    "Những hãng sản xuất CPU và GPU hiện nay không nhiều:\n",
    "- **Intel**: Sản xuất cả CPU và GPU.\n",
    "- **AMD**: Sản xuất cả CPU và GPU.\n",
    "- **Nvidia**: Sản xuất GPU.\n",
    "- **ARM**: Sản xuất GPU."
   ]
  },
  {
   "cell_type": "markdown",
   "metadata": {},
   "source": [
    "Tiếp theo, ta cần tính toán số lượng latop sử dụng CPU/GPU của từng hãng sản xuất. Rồi vẽ biểu đồ trực quan."
   ]
  },
  {
   "cell_type": "code",
   "execution_count": 39,
   "metadata": {},
   "outputs": [
    {
     "data": {
      "text/plain": [
       "CPU_company\n",
       "Intel      1213\n",
       "AMD          60\n",
       "Samsung       1\n",
       "Name: count, dtype: int64"
      ]
     },
     "execution_count": 39,
     "metadata": {},
     "output_type": "execute_result"
    }
   ],
   "source": [
    "cpu_counts = df['CPU_company'].value_counts()\n",
    "cpu_counts"
   ]
  },
  {
   "cell_type": "markdown",
   "metadata": {},
   "source": [
    "Có vẻ số sản phẩm dùng CPU **Intel** khá áp đảo."
   ]
  },
  {
   "cell_type": "code",
   "execution_count": 41,
   "metadata": {},
   "outputs": [
    {
     "data": {
      "text/plain": [
       "GPU_company\n",
       "Intel     704\n",
       "Nvidia    395\n",
       "AMD       174\n",
       "ARM         1\n",
       "Name: count, dtype: int64"
      ]
     },
     "execution_count": 41,
     "metadata": {},
     "output_type": "execute_result"
    }
   ],
   "source": [
    "gpu_counts = df['GPU_company'].value_counts()\n",
    "gpu_counts"
   ]
  },
  {
   "cell_type": "code",
   "execution_count": 42,
   "metadata": {},
   "outputs": [
    {
     "data": {
      "image/png": "[encoded data removed]",
      "text/plain": [
       "<Figure size 1000x600 with 2 Axes>"
      ]
     },
     "metadata": {},
     "output_type": "display_data"
    }
   ],
   "source": [
    "# Visualize the results\n",
    "plt.figure(figsize=(10, 6))\n",
    "\n",
    "plt.subplot(3, 1, 1)\n",
    "cpu_counts.plot(kind='barh', color='skyblue')\n",
    "plt.title('Số laptop sử dụng CPU của từng hãng')\n",
    "plt.xlabel('Số lượng')\n",
    "plt.ylabel('Hãng sản xuất')\n",
    "\n",
    "plt.subplot(3, 1, 3)\n",
    "gpu_counts.plot(kind='barh', color='lightgreen')\n",
    "plt.title('Số laptop sử dụng GPU của từng hãng')\n",
    "plt.xlabel('Số lượng')\n",
    "plt.ylabel('Hãng sản xuất')\n",
    "plt.show()"
   ]
  },
  {
   "cell_type": "markdown",
   "metadata": {},
   "source": [
    "Ta có nhận xét sau:\n",
    "- Bộ xử lí của  Intel rất được ưa chuộng, phần lớn các laptop trên thị trường đều dùng trang bị CPU VÀ GPU của Intel. Có thể nói Intel đang dẫn đầu trong lĩnh vực này.\n",
    "- AMD, Nvidia tuy không bằng Intel, những cũng chiếm thị phần đáng kể.\n",
    "- Samsung cũng có mặt trong sản xuất CPU nhưng quy mô rất nhỏ.\n",
    "- ARM có mặt trong sản xuất GPU, nhưng quy mô cũng rất nhỏ.  "
   ]
  },
  {
   "cell_type": "markdown",
   "metadata": {},
   "source": [
    "### 2.4 Dung lượng RAM phổ biến nhất là gì?\n",
    "Dung lượng RAM ảnh hưởng đến khả năng đáp ứng các tác vụ thường ngày, quyết định trải nghiệm người dùng. Việc phân tích dung lượng RAM sẽ giúp chúng ta hiểu rõ nhu cầu của người tiêu dùng đối với các dòng sản phẩm.  \n",
    "Đầu tiên, ta sẽ tìm hiểu các dung lượng RAM đang phổ biến."
   ]
  },
  {
   "cell_type": "code",
   "execution_count": 45,
   "metadata": {},
   "outputs": [
    {
     "data": {
      "text/plain": [
       "Ram\n",
       "8     612\n",
       "4     367\n",
       "16    198\n",
       "6      35\n",
       "12     25\n",
       "32     17\n",
       "2      16\n",
       "24      3\n",
       "64      1\n",
       "Name: count, dtype: int64"
      ]
     },
     "execution_count": 45,
     "metadata": {},
     "output_type": "execute_result"
    }
   ],
   "source": [
    "ram_counts = df['Ram'].value_counts()\n",
    "ram_counts"
   ]
  },
  {
   "cell_type": "markdown",
   "metadata": {},
   "source": [
    "Từ kết quả, ta thấy được dung lượng RAM laptop khá đa dạng, thấp nhất là 2GB, trải dài tới cao nhất là 64GB.  \n",
    "Tiếp theo, ta sẽ vẽ biểu đồ trực quan để có cái nhìn tổng quan hơn."
   ]
  },
  {
   "cell_type": "code",
   "execution_count": 47,
   "metadata": {},
   "outputs": [
    {
     "data": {
      "image/png": "[encoded data removed]",
      "text/plain": [
       "<Figure size 1000x600 with 1 Axes>"
      ]
     },
     "metadata": {},
     "output_type": "display_data"
    }
   ],
   "source": [
    "# Trực quan sự phân bố của RAM\n",
    "plt.figure(figsize=(10, 6))\n",
    "ram_counts.plot(kind='bar', color='salmon')\n",
    "plt.title('Sự phân bố Dung lượng RAM')\n",
    "plt.xlabel('Dung lượng RAM (GB)')\n",
    "plt.xticks(rotation=0)\n",
    "plt.ylabel('Số lượng')\n",
    "plt.show()"
   ]
  },
  {
   "cell_type": "markdown",
   "metadata": {},
   "source": [
    "Dựa trên biểu đồ, ta có thể rút ra một số nhận xét sau:\n",
    "- Dung lượng RAM 8GB là phổ biến nhất, chiếm tỷ lệ cao nhất trong tổng số các loại dung lượng RAM được khảo sát. Điều này cho thấy rằng, trong thời gian gần đây, 8GB RAM đã trở thành mức RAM tiêu chuẩn.\n",
    "- Mặc dù không bằng 8GB, dung lượng RAM 4GB vẫn được sử dụng khá phổ biến.\n",
    "- Các dung lượng RAM khác như 16GB, 6GB, 12GB, 32GB, 2GB, 24GB, 64GB có số lượng máy sử dụng ít hơn rất nhiều so với 8GB và 4GB. Có thể do chúng được sử dụng cho thiết bị chuyên dụng hoặc cấu hình cao,..."
   ]
  },
  {
   "cell_type": "markdown",
   "metadata": {},
   "source": [
    "#### 2.5 Trọng lượng laptop phân bố như thế nào?\n",
    "Trả lời câu hỏi này sẽ cung cấp thông tin về các loại laptop phổ biến theo trọng lượng, từ đó hiểu được xu hướng lựa chọn của người tiêu dùng. Ví dụ: Người dùng có ưu tiên laptop nhẹ để di chuyển hay laptop nặng để làm việc hiệu năng cao.  \n",
    "\n",
    "Để thuận tiện trả lời, chúng ta sẽ chia trọng lượng laptop thành 3 mức:\n",
    "- Nhẹ (Light): 1 kg đến 1,5 kg \n",
    "- Trung bình (Medium): 1,5 kg đến 2,5 kg\n",
    "- Nặng (Heavy): Từ 2,5 kg trở lên\n",
    "\r\n"
   ]
  },
  {
   "cell_type": "markdown",
   "metadata": {},
   "source": [
    "Ta sẽ thêm cột `Weight_catagory` để phân loại trọng lượng laptop"
   ]
  },
  {
   "cell_type": "code",
   "execution_count": 51,
   "metadata": {},
   "outputs": [],
   "source": [
    "# Hàm phân loại trọng lượng laptop\n",
    "def classify_weight(weight):\n",
    "    if weight < 1.5:\n",
    "        return 'Light'\n",
    "    elif 1.5 <= weight < 2.5:\n",
    "        return 'Medium'\n",
    "    else:\n",
    "        return 'Heavy'\n",
    "\n",
    "# Áp dụng phân loại\n",
    "df['Weight_catagory'] = df['Weight'].apply(classify_weight)"
   ]
  },
  {
   "cell_type": "markdown",
   "metadata": {},
   "source": [
    "Ta xem thử vài dòng đầu để kiểm tra."
   ]
  },
  {
   "cell_type": "code",
   "execution_count": 53,
   "metadata": {},
   "outputs": [
    {
     "data": {
      "text/html": [
       "<div>\n",
       "<style scoped>\n",
       "    .dataframe tbody tr th:only-of-type {\n",
       "        vertical-align: middle;\n",
       "    }\n",
       "\n",
       "    .dataframe tbody tr th {\n",
       "        vertical-align: top;\n",
       "    }\n",
       "\n",
       "    .dataframe thead th {\n",
       "        text-align: right;\n",
       "    }\n",
       "</style>\n",
       "<table border=\"1\" class=\"dataframe\">\n",
       "  <thead>\n",
       "    <tr style=\"text-align: right;\">\n",
       "      <th></th>\n",
       "      <th>Weight</th>\n",
       "      <th>Weight_catagory</th>\n",
       "    </tr>\n",
       "  </thead>\n",
       "  <tbody>\n",
       "    <tr>\n",
       "      <th>0</th>\n",
       "      <td>1.37</td>\n",
       "      <td>Light</td>\n",
       "    </tr>\n",
       "    <tr>\n",
       "      <th>1</th>\n",
       "      <td>1.34</td>\n",
       "      <td>Light</td>\n",
       "    </tr>\n",
       "    <tr>\n",
       "      <th>2</th>\n",
       "      <td>1.86</td>\n",
       "      <td>Medium</td>\n",
       "    </tr>\n",
       "    <tr>\n",
       "      <th>3</th>\n",
       "      <td>1.83</td>\n",
       "      <td>Medium</td>\n",
       "    </tr>\n",
       "    <tr>\n",
       "      <th>4</th>\n",
       "      <td>1.37</td>\n",
       "      <td>Light</td>\n",
       "    </tr>\n",
       "  </tbody>\n",
       "</table>\n",
       "</div>"
      ],
      "text/plain": [
       "   Weight Weight_catagory\n",
       "0    1.37           Light\n",
       "1    1.34           Light\n",
       "2    1.86          Medium\n",
       "3    1.83          Medium\n",
       "4    1.37           Light"
      ]
     },
     "execution_count": 53,
     "metadata": {},
     "output_type": "execute_result"
    }
   ],
   "source": [
    "df[['Weight', 'Weight_catagory']].head()"
   ]
  },
  {
   "cell_type": "markdown",
   "metadata": {},
   "source": [
    "Như vậy, chúng ta đã phân loại thành công.  \n",
    "\n",
    "Tiếp theo, chúng ta sẽ tính toán số lượng laptop ở từng mức và vẽ biểu đồ trực quan."
   ]
  },
  {
   "cell_type": "code",
   "execution_count": 55,
   "metadata": {},
   "outputs": [
    {
     "data": {
      "image/png": "[encoded data removed]",
      "text/plain": [
       "<Figure size 1000x600 with 1 Axes>"
      ]
     },
     "metadata": {},
     "output_type": "display_data"
    }
   ],
   "source": [
    "# Trực quan\n",
    "plt.figure(figsize=(10, 6))\n",
    "sns.countplot(x='Weight_catagory', data=df, palette='viridis')\n",
    "plt.title('Phân bố trọng lượng laptop')\n",
    "plt.xlabel('Mức trọng lượng')\n",
    "plt.ylabel('Số lượng')\n",
    "plt.show()"
   ]
  },
  {
   "cell_type": "markdown",
   "metadata": {},
   "source": [
    "Từ biểu đồ, ta có thể nhận xét:\n",
    "- Số lượng laptop có trọng lượng trung bình chiếm tỷ lệ cao nhất, cho thấy người dùng thường ưu tiên các mẫu laptop vừa phải, không quá nặng để di chuyển.\n",
    "- Số lượng laptop có trọng lượng nhẹ và nặng ở mức trung bình, có thể chúng chỉ phù hợp với những người dùng có nhu cầu đặc biệt, hay phù hợp với sở thích cá nhân,.."
   ]
  },
  {
   "cell_type": "markdown",
   "metadata": {},
   "source": [
    "#### 2.6 Độ phân giải màn hình phổ biến nhất là?\n",
    "Độ phân giải màn hình là chỉ số cho biết số lượng các điểm ảnh (pixel) trên màn hình, được thể hiện bằng phép nhân giữa số điểm ảnh của hàng và cột tương ứng. Độ phân giải càng cao cho khả năng hiển thị hình ảnh càng sắc nét và trung thực (Với cùng kích thước màn hình).   \n",
    "Ví dụ: 1920x1080 là 1 độ phân giải màn hình\r\n"
   ]
  },
  {
   "cell_type": "markdown",
   "metadata": {},
   "source": [
    "Hai cột liên quan đến độ phân giải màn hình là `ScreenW` và `ScreenH`. Ta sẽ xem qua nội dung hai cột này."
   ]
  },
  {
   "cell_type": "code",
   "execution_count": 59,
   "metadata": {},
   "outputs": [
    {
     "data": {
      "text/html": [
       "<div>\n",
       "<style scoped>\n",
       "    .dataframe tbody tr th:only-of-type {\n",
       "        vertical-align: middle;\n",
       "    }\n",
       "\n",
       "    .dataframe tbody tr th {\n",
       "        vertical-align: top;\n",
       "    }\n",
       "\n",
       "    .dataframe thead th {\n",
       "        text-align: right;\n",
       "    }\n",
       "</style>\n",
       "<table border=\"1\" class=\"dataframe\">\n",
       "  <thead>\n",
       "    <tr style=\"text-align: right;\">\n",
       "      <th></th>\n",
       "      <th>ScreenW</th>\n",
       "      <th>ScreenH</th>\n",
       "    </tr>\n",
       "  </thead>\n",
       "  <tbody>\n",
       "    <tr>\n",
       "      <th>0</th>\n",
       "      <td>2560</td>\n",
       "      <td>1600</td>\n",
       "    </tr>\n",
       "    <tr>\n",
       "      <th>1</th>\n",
       "      <td>1440</td>\n",
       "      <td>900</td>\n",
       "    </tr>\n",
       "    <tr>\n",
       "      <th>2</th>\n",
       "      <td>1920</td>\n",
       "      <td>1080</td>\n",
       "    </tr>\n",
       "    <tr>\n",
       "      <th>3</th>\n",
       "      <td>2880</td>\n",
       "      <td>1800</td>\n",
       "    </tr>\n",
       "    <tr>\n",
       "      <th>4</th>\n",
       "      <td>2560</td>\n",
       "      <td>1600</td>\n",
       "    </tr>\n",
       "  </tbody>\n",
       "</table>\n",
       "</div>"
      ],
      "text/plain": [
       "   ScreenW  ScreenH\n",
       "0     2560     1600\n",
       "1     1440      900\n",
       "2     1920     1080\n",
       "3     2880     1800\n",
       "4     2560     1600"
      ]
     },
     "execution_count": 59,
     "metadata": {},
     "output_type": "execute_result"
    }
   ],
   "source": [
    "df[['ScreenW', 'ScreenH']].head(5)"
   ]
  },
  {
   "cell_type": "markdown",
   "metadata": {},
   "source": [
    "Để phân tích, chúng ta sẽ nối giá trị hai cột này bằng `x`. Ví dụ: ScreenW: 2560, ScreenH: 1600 sẽ là 2560x1600.  \n",
    "Kết quả sẽ được lưu vào `ScreenResolution`"
   ]
  },
  {
   "cell_type": "code",
   "execution_count": 61,
   "metadata": {},
   "outputs": [],
   "source": [
    "# Kết hợp 'ScreenW',  'ScreenH' lưu vào 'ScreenResolution'\n",
    "df['ScreenResolution'] = df['ScreenW'].astype(str) + 'x' + df['ScreenH'].astype(str)"
   ]
  },
  {
   "cell_type": "markdown",
   "metadata": {},
   "source": [
    "Ta kiểm tra thử 5 dòng đầu."
   ]
  },
  {
   "cell_type": "code",
   "execution_count": 63,
   "metadata": {},
   "outputs": [
    {
     "data": {
      "text/html": [
       "<div>\n",
       "<style scoped>\n",
       "    .dataframe tbody tr th:only-of-type {\n",
       "        vertical-align: middle;\n",
       "    }\n",
       "\n",
       "    .dataframe tbody tr th {\n",
       "        vertical-align: top;\n",
       "    }\n",
       "\n",
       "    .dataframe thead th {\n",
       "        text-align: right;\n",
       "    }\n",
       "</style>\n",
       "<table border=\"1\" class=\"dataframe\">\n",
       "  <thead>\n",
       "    <tr style=\"text-align: right;\">\n",
       "      <th></th>\n",
       "      <th>ScreenW</th>\n",
       "      <th>ScreenH</th>\n",
       "      <th>ScreenResolution</th>\n",
       "    </tr>\n",
       "  </thead>\n",
       "  <tbody>\n",
       "    <tr>\n",
       "      <th>0</th>\n",
       "      <td>2560</td>\n",
       "      <td>1600</td>\n",
       "      <td>2560x1600</td>\n",
       "    </tr>\n",
       "    <tr>\n",
       "      <th>1</th>\n",
       "      <td>1440</td>\n",
       "      <td>900</td>\n",
       "      <td>1440x900</td>\n",
       "    </tr>\n",
       "    <tr>\n",
       "      <th>2</th>\n",
       "      <td>1920</td>\n",
       "      <td>1080</td>\n",
       "      <td>1920x1080</td>\n",
       "    </tr>\n",
       "    <tr>\n",
       "      <th>3</th>\n",
       "      <td>2880</td>\n",
       "      <td>1800</td>\n",
       "      <td>2880x1800</td>\n",
       "    </tr>\n",
       "    <tr>\n",
       "      <th>4</th>\n",
       "      <td>2560</td>\n",
       "      <td>1600</td>\n",
       "      <td>2560x1600</td>\n",
       "    </tr>\n",
       "  </tbody>\n",
       "</table>\n",
       "</div>"
      ],
      "text/plain": [
       "   ScreenW  ScreenH ScreenResolution\n",
       "0     2560     1600        2560x1600\n",
       "1     1440      900         1440x900\n",
       "2     1920     1080        1920x1080\n",
       "3     2880     1800        2880x1800\n",
       "4     2560     1600        2560x1600"
      ]
     },
     "execution_count": 63,
     "metadata": {},
     "output_type": "execute_result"
    }
   ],
   "source": [
    "df[['ScreenW', 'ScreenH', 'ScreenResolution']].head(5)"
   ]
  },
  {
   "cell_type": "markdown",
   "metadata": {},
   "source": [
    "Như vậy, ta đã xử lí xong.  \n",
    "\n",
    "Bây giờ, chúng ta sẽ vẽ biểu đồ để xem `Độ phân giải màn hình` phân bố ra sao."
   ]
  },
  {
   "cell_type": "code",
   "execution_count": 65,
   "metadata": {},
   "outputs": [
    {
     "data": {
      "image/png": "[encoded data removed]",
      "text/plain": [
       "<Figure size 1400x800 with 1 Axes>"
      ]
     },
     "metadata": {},
     "output_type": "display_data"
    }
   ],
   "source": [
    "# Trực quan\n",
    "plt.figure(figsize=(14, 8))\n",
    "sns.countplot(y='ScreenResolution', data=df, order=df['ScreenResolution'].value_counts().index, palette='viridis')\n",
    "plt.title('Sự phân bố độ phân giải màn hình')\n",
    "plt.xlabel('Số lượng')\n",
    "plt.ylabel('Độ phân giải màn hình')\n",
    "plt.show()"
   ]
  },
  {
   "cell_type": "markdown",
   "metadata": {},
   "source": [
    "Từ biểu đồ, ta có thể nhận xét:\n",
    "- Độ phân giải 1920x1080 (Full HD) là phổ biến nhất, chiếm số lượng lớn các thiết bị. Điều này cho thấy đa số người dùng đang ưu tiên độ phân giải này.\n",
    "- Các độ phân giải khác như 1366x768, 3840x2160 (4K) cũng có số lượng đáng kể, tuy nhiên không bằng Full HD."
   ]
  },
  {
   "cell_type": "markdown",
   "metadata": {},
   "source": [
    "### **Kết luận**:\n",
    "Để chọn laptop phù hơp với bản thân, người dùng có thể :\n",
    "1. Chọn theo thương hiệu:\n",
    "   - Các thương hiệu như về **Dell**, **Lenovo**, **HP** đều là những thương hiệu phổ biển.\n",
    "   - Người dùng có thể cân nhắc chọn 3 thương hiệu trên nếu không có yêu cầu đặc biệt.\n",
    "2. Chọn theo loại laptop:\n",
    "   - Ultrabook: Mỏng nhẹ, pin lâu, dành cho người hay di chuyển hoặc làm việc văn phòng.\n",
    "   - Gaming Laptop: Cấu hình mạnh, chuyên chơi game hoặc làm đồ họa.\n",
    "   - Workstation: Hiệu năng cao, phục vụ công việc chuyên sâu như thiết kế 3D hay lập trình.\n",
    "   - Notebook: Lựa chọn phổ biến, cân bằng giữa hiệu năng và giá cả, phù hợp với nhu cầu hàng ngày.\n",
    "   - Netbook: Rất nhỏ gọn, cấu hình thấp, dành cho nhu cầu cơ bản như lướt web, xem video.\n",
    "   - 2-in-1 Convertible: Vừa là laptop, vừa là tablet, linh hoạt trong sử dụng.\n",
    "3. Chọn theo cấu hình:\n",
    "   - CPU/GPU người dùng có thể lựa chọn tùy thích.\n",
    "   - Dung lượng RAM:\n",
    "      - Nếu chỉ dùng các tác vụ cơ bản: RAM 2GB, 4GB là vừa đủ\n",
    "      - Có như cầu chơi game tầm trung, xử lí tác vụ không quá nặng có thể cân nhắc dung lượng RAM 8GB, 16GB.\n",
    "      - Đối với các như cầu cao hơn, chọn laptop có dung lượng RAM 32GB, thậm chỉs là 64GB.\n",
    "4. Chọn theo trọng lượng:\n",
    "   - Người di chuyển nhiều: có thể chọn laptop nhẹ (1-1.5kg)\n",
    "   - Người làm việc cố định: có thể chọn các trọng lượng laptop tùy theo sở thích: 1-1.5kg, 1.5-2kg hay >2.5kg\n",
    "5. Chọn theo độ phân giải màn hình:\n",
    "   - Full HD (1920x1080): Phù hợp với đa số người dùng nhờ chất lượng hình ảnh rõ nét, giá hợp lý.\n",
    "   - 4K (3840x2160): Phù hợp cho người làm thiết kế đồ họa hoặc chỉnh sửa video chuyên nghiệp.\n",
    "   - Các độ phân giải khác người dùng có thể tùy ý lựa chọn dựa vào như cầu cụ thể của bản thân.\n",
    "  \n",
    "Ví dụ: Một người có nhu cầu mua laptop để chơi game, xử lí hình ảnh, video ở mức cơ bản, làm việc tại nhà. Như vậy người dùng đó có thể chọn Laptop Gaming của Dell, với mức RAM là 16GB, màn hình có độ phân giả 4K,..\n"
   ]
  },
  {
   "cell_type": "markdown",
   "metadata": {},
   "source": [
    "### 3. Câu hỏi 3 <a id=\"iv3\"></a>"
   ]
  },
  {
   "cell_type": "markdown",
   "metadata": {},
   "source": [
    "### 4. Câu hỏi 4 (bonus) <a id=\"iv4\"></a>"
   ]
  },
  {
   "cell_type": "markdown",
   "metadata": {},
   "source": [
    "## V. Nhận xét quá trình làm đồ án  <a id=\"v\"></a>"
   ]
  },
  {
   "cell_type": "markdown",
   "metadata": {},
   "source": [
    "### 1. Thành viên 1  <a id=\"v1\"></a>"
   ]
  },
  {
   "cell_type": "markdown",
   "metadata": {},
   "source": [
    "### 2. Thành viên 2  <a id=\"v2\"></a>\n",
    "Thành viên Võ Thành Tâm\n",
    "- Khó khăn:\n",
    "  - Ban đầu chưa quen với cách đặt câu hỏi phân tích dữ liệu và mất nhiều thời gian để xác định hướng tiếp cận phù hợp.\n",
    "  - Việc xử lý và trình bày dữ liệu còn chưa tối ưu, nhiều thiếu xót, dẫn đến tốn nhiều thời gian.\n",
    "  - Có những ý tưởng phân tích sâu hơn, nhưng không đủ khả năng để thực hiện.\n",
    "- Những điều học được:\n",
    "  - Nắm vững hơn cách sử dụng các công cụ phân tích dữ liệu như Pandas, Matplotlib, và Seaborn.\n",
    "  - Hiểu rõ hơn về cách đặt câu hỏi và sử dụng dữ liệu để trả lời một cách hiệu quả.\n",
    "  - Có thêm kỹ năng tổ chức và trình bày báo cáo một cách logic và dễ hiểu."
   ]
  },
  {
   "cell_type": "markdown",
   "metadata": {},
   "source": [
    "### 3. Thành viên 3  <a id=\"v3\"></a>"
   ]
  },
  {
   "cell_type": "markdown",
   "metadata": {},
   "source": [
    "### 4. Ý kiến nhóm  <a id=\"v4\"></a>"
   ]
  },
  {
   "cell_type": "markdown",
   "metadata": {},
   "source": [
    "**Nếu có thêm thời gian thì làm gì?**  \n",
    "Nếu có thời gian, nhóm sẽ tập trung thực hiện các công việc giúp hoàn thiện, nâng cao chất lượng đồ án, từ đó cung cấp thông tin chi tiết và hữu ích hơn cho người tiêu dùng:\n",
    " - Nhóm sẽ tìm kiếm thêm dữ liệu từ trang web bán Laptop trực tuyến, diễn đàn công nghệ,... Điều này giúp cập nhật dữ liệu mới nhất và bổ sung các thông tin chi tiết hơn về từng sản phầm.\n",
    " - Nhóm sẽ xem xét các yếu tố như xu hướng công nghệ, đánh giá của người dùng từ các trang web đánh giá sản phẩm, hay cân nhất các yếu tố kinh tế. Từ đó, nhóm hiểu rõ hơn về lý do tại sao một số laptop lại phổ biến hơn hoặc có giá cao hơn,...\n",
    " - Nhóm sẽ tiến hành các cuộc khảo sát nhỏ để thu thập ý kiến và phản hồi từ người dùng về các tiêu chí quan trọng khi chọn mua laptop, giúp nhóm hiểu rõ hơn về nhu cầu và mong muốn của người tiêu dùng."
   ]
  },
  {
   "cell_type": "markdown",
   "metadata": {},
   "source": [
    "## Tài liệu tham khảo  <a id=\"tltk\"></a>"
   ]
  }
 ],
 "metadata": {
  "kernelspec": {
   "display_name": "Python 3 (ipykernel)",
   "language": "python",
   "name": "python3"
  },
  "language_info": {
   "codemirror_mode": {
    "name": "ipython",
    "version": 3
   },
   "file_extension": ".py",
   "mimetype": "text/x-python",
   "name": "python",
   "nbconvert_exporter": "python",
   "pygments_lexer": "ipython3",
   "version": "3.11.7"
  }
 },
 "nbformat": 4,
 "nbformat_minor": 4
}
