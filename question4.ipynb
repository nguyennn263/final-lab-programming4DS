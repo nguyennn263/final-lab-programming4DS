{
 "cells": [
  {
   "cell_type": "markdown",
   "metadata": {},
   "source": [
    "# Đồ án cuối kì môn Lập trình cho Khoa học Dữ liệu - CQ2022/21"
   ]
  },
  {
   "cell_type": "markdown",
   "metadata": {},
   "source": [
    "## Mục lục\n",
    "- [I. Thông tin nhóm](#i)\n",
    "- [II. Thu thập dữ liệu](#ii)\n",
    "    - [1. Chủ đề](#ii1)\n",
    "    - [2. Nguồn dữ liệu](#ii2)\n",
    "    - [3. Cách thu thập](#ii3)\n",
    "- [III. Khám phá dữ liệu](#iii)\n",
    "- [IV. Đặt câu hỏi có ý nghĩa và trả lời](#iv)\n",
    "    - [1. Câu hỏi 1](#iv1)\n",
    "    - [2. Câu hỏi 2](#iv2)\n",
    "    - [3. Câu hỏi 3](#iv3)\n",
    "    - [4. Câu hỏi 4](#iv4)\n",
    "- [V. Nhận xét quá trình làm đồ án](#v)\n",
    "    - [1. Thành viên 1](#v1)\n",
    "    - [2. Thành viên 2](#v2)\n",
    "    - [3. Thành viên 3](#v3)\n",
    "    - [4. Ý kiến nhóm](#v4)\n",
    "- [Tài liệu tham khảo](#tltk)\n"
   ]
  },
  {
   "cell_type": "markdown",
   "metadata": {},
   "source": [
    "## I. Thông tin nhóm <a id=\"i\"></a>"
   ]
  },
  {
   "cell_type": "markdown",
   "metadata": {},
   "source": [
    "| Họ tên                | MSSV              | Công việc | Hoàn thành(%)|\n",
    "|-----------------------|-------------------|-----------|--------------|\n",
    "|Nguyễn Tiến Quốc      |   22120300        |           | 100%         |\n",
    "|Nguyễn Trung Quôc      |   22120301        |           | 100%         |\n",
    "|Võ Thành Tâm      |   22120324        |           | 100%         |"
   ]
  },
  {
   "cell_type": "markdown",
   "metadata": {},
   "source": [
    "## II. Thu thập dữ liệu <a id=\"ii\"></a>"
   ]
  },
  {
   "cell_type": "markdown",
   "metadata": {},
   "source": [
    "### 1. Chủ đề <a id=\"ii1\"></a>"
   ]
  },
  {
   "cell_type": "markdown",
   "metadata": {},
   "source": [
    "### 2. Nguồn dữ liệu <a id=\"ii2\"></a>"
   ]
  },
  {
   "cell_type": "markdown",
   "metadata": {},
   "source": [
    "### 3. Cách thu thập <a id=\"ii3\"></a>"
   ]
  },
  {
   "cell_type": "markdown",
   "metadata": {},
   "source": [
    "## III. Khám phá dữ liệu  <a id=\"iii\"></a>"
   ]
  },
  {
   "cell_type": "markdown",
   "metadata": {},
   "source": [
    "## IV. Đặt câu hỏi có ý nghĩa và trả lời  <a id=\"iv\"></a>"
   ]
  },
  {
   "cell_type": "markdown",
   "metadata": {},
   "source": [
    "### 1. Câu hỏi 1 <a id=\"iv1\"></a>"
   ]
  },
  {
   "cell_type": "markdown",
   "metadata": {},
   "source": [
    "### 2. Câu hỏi 2 <a id=\"iv2\"></a>"
   ]
  },
  {
   "cell_type": "markdown",
   "metadata": {},
   "source": [
    "### 3. Câu hỏi 3 <a id=\"iv3\"></a>"
   ]
  },
  {
   "cell_type": "markdown",
   "metadata": {},
   "source": [
    "### 4. Câu hỏi 4 (bonus) <a id=\"iv4\"></a>"
   ]
  },
  {
   "cell_type": "markdown",
   "metadata": {},
   "source": [
    "Với 1 thông tin về cấu hình cho trước, làm sao có thể dự đoán giá của laptop?\n",
    "- Lợi ích khi trả lời câu hỏi: Người tiêu dùng có thể dự đoán được giá của laptop với thông tin cấu hình ưa thích. Từ đó điều chỉnh sao cho phù hợp với túi tiền.\n",
    "\n",
    "- Để trả lời câu hỏi này, ta sẽ sử dụng giải thuật đơn giản K-Nearest Neighbors (KNN). Thuật toán sẽ tìm cấu hình tương đồng nhất với cấu hình ưa thích và từ đó dự đoán được giá của cấu hình laptop người tiêu dùng đưa ra.\n",
    "    - Bước 1: Mã hóa các thuộc tính categorical thành số để nhằm tính toán độ tương đồng (khoảng cách). Để đơn giản ta sẽ sử dụng hàm encoder của thư viện scikit-learn\n",
    "    - Bước 2: Ta sẽ chia tập thành 2 tập train và test (mục đích là để kiểm tra độ chính xác của dự đoán). Để cho đơn giản ta sẽ sử dụng hàm train_test_split của thư viện scikit-learn.\n",
    "    - Bước 3: Sử dụng thuật toán KNN. Sau đó kiểm tra độ chính xác bằng các độ đo. Để cho đơn giản, ta sẽ sử dụng thuật toán của thư viên scikit-learn\n",
    "    - Bước 4: Dự đoán giá của 1 cấu hình ví dụ.\n",
    "        - Để chuẩn bị cho bước này ta sẽ tiến hành tạo 1 cấu hình mặc định bằng cách lấy mode hoặc mean của các đặc trưng (Vì có thể cấu hình ưa thích không có đầy đủ đặc trưng) ngay từ ban đầu."
   ]
  },
  {
   "cell_type": "code",
   "execution_count": 681,
   "metadata": {},
   "outputs": [],
   "source": [
    "# import libraries\n",
    "import numpy as np\n",
    "import pandas as pd\n",
    "import matplotlib.pyplot as plt\n",
    "import seaborn as sns\n",
    "from sklearn.preprocessing import LabelEncoder\n",
    "from sklearn.model_selection import train_test_split\n",
    "from sklearn.metrics import mean_squared_error\n",
    "from sklearn.preprocessing import LabelEncoder, StandardScaler\n",
    "from sklearn.neighbors import KNeighborsRegressor\n"
   ]
  },
  {
   "cell_type": "code",
   "execution_count": 682,
   "metadata": {},
   "outputs": [
    {
     "data": {
      "text/html": [
       "<div>\n",
       "<style scoped>\n",
       "    .dataframe tbody tr th:only-of-type {\n",
       "        vertical-align: middle;\n",
       "    }\n",
       "\n",
       "    .dataframe tbody tr th {\n",
       "        vertical-align: top;\n",
       "    }\n",
       "\n",
       "    .dataframe thead th {\n",
       "        text-align: right;\n",
       "    }\n",
       "</style>\n",
       "<table border=\"1\" class=\"dataframe\">\n",
       "  <thead>\n",
       "    <tr style=\"text-align: right;\">\n",
       "      <th></th>\n",
       "      <th>Company</th>\n",
       "      <th>Product</th>\n",
       "      <th>TypeName</th>\n",
       "      <th>Inches</th>\n",
       "      <th>Ram</th>\n",
       "      <th>OpSys</th>\n",
       "      <th>Weight</th>\n",
       "      <th>Price_euros</th>\n",
       "      <th>Screen</th>\n",
       "      <th>ScreenW</th>\n",
       "      <th>...</th>\n",
       "      <th>RetinaDisplay</th>\n",
       "      <th>CPU_company</th>\n",
       "      <th>CPU_freq</th>\n",
       "      <th>CPU_model</th>\n",
       "      <th>PrimaryStorage</th>\n",
       "      <th>SecondaryStorage</th>\n",
       "      <th>PrimaryStorageType</th>\n",
       "      <th>SecondaryStorageType</th>\n",
       "      <th>GPU_company</th>\n",
       "      <th>GPU_model</th>\n",
       "    </tr>\n",
       "  </thead>\n",
       "  <tbody>\n",
       "    <tr>\n",
       "      <th>1235</th>\n",
       "      <td>HP</td>\n",
       "      <td>EliteBook 840</td>\n",
       "      <td>Ultrabook</td>\n",
       "      <td>14</td>\n",
       "      <td>8</td>\n",
       "      <td>Windows 7</td>\n",
       "      <td>1.54</td>\n",
       "      <td>2198.19</td>\n",
       "      <td>Standard</td>\n",
       "      <td>2560</td>\n",
       "      <td>...</td>\n",
       "      <td>No</td>\n",
       "      <td>Intel</td>\n",
       "      <td>2.5</td>\n",
       "      <td>Core i7 6500U</td>\n",
       "      <td>256</td>\n",
       "      <td>0</td>\n",
       "      <td>SSD</td>\n",
       "      <td>No</td>\n",
       "      <td>Intel</td>\n",
       "      <td>HD Graphics 520</td>\n",
       "    </tr>\n",
       "    <tr>\n",
       "      <th>13</th>\n",
       "      <td>Dell</td>\n",
       "      <td>Inspiron 3567</td>\n",
       "      <td>Notebook</td>\n",
       "      <td>15</td>\n",
       "      <td>4</td>\n",
       "      <td>Windows 10</td>\n",
       "      <td>2.20</td>\n",
       "      <td>498.90</td>\n",
       "      <td>Full HD</td>\n",
       "      <td>1920</td>\n",
       "      <td>...</td>\n",
       "      <td>No</td>\n",
       "      <td>Intel</td>\n",
       "      <td>2.0</td>\n",
       "      <td>Core i3 6006U</td>\n",
       "      <td>256</td>\n",
       "      <td>0</td>\n",
       "      <td>SSD</td>\n",
       "      <td>No</td>\n",
       "      <td>AMD</td>\n",
       "      <td>Radeon R5 M430</td>\n",
       "    </tr>\n",
       "    <tr>\n",
       "      <th>984</th>\n",
       "      <td>Dell</td>\n",
       "      <td>Inspiron 3567</td>\n",
       "      <td>Notebook</td>\n",
       "      <td>15</td>\n",
       "      <td>4</td>\n",
       "      <td>Windows 10</td>\n",
       "      <td>2.25</td>\n",
       "      <td>599.00</td>\n",
       "      <td>Standard</td>\n",
       "      <td>1366</td>\n",
       "      <td>...</td>\n",
       "      <td>No</td>\n",
       "      <td>Intel</td>\n",
       "      <td>2.5</td>\n",
       "      <td>Core i5 7200U</td>\n",
       "      <td>500</td>\n",
       "      <td>0</td>\n",
       "      <td>HDD</td>\n",
       "      <td>No</td>\n",
       "      <td>AMD</td>\n",
       "      <td>Radeon R5 M430</td>\n",
       "    </tr>\n",
       "    <tr>\n",
       "      <th>1197</th>\n",
       "      <td>Acer</td>\n",
       "      <td>Aspire 3</td>\n",
       "      <td>Notebook</td>\n",
       "      <td>15</td>\n",
       "      <td>4</td>\n",
       "      <td>Linux</td>\n",
       "      <td>2.10</td>\n",
       "      <td>272.00</td>\n",
       "      <td>Standard</td>\n",
       "      <td>1366</td>\n",
       "      <td>...</td>\n",
       "      <td>No</td>\n",
       "      <td>Intel</td>\n",
       "      <td>2.0</td>\n",
       "      <td>Celeron Dual Core N3350</td>\n",
       "      <td>1024</td>\n",
       "      <td>0</td>\n",
       "      <td>HDD</td>\n",
       "      <td>No</td>\n",
       "      <td>Intel</td>\n",
       "      <td>HD Graphics 500</td>\n",
       "    </tr>\n",
       "    <tr>\n",
       "      <th>682</th>\n",
       "      <td>Dell</td>\n",
       "      <td>Alienware 15</td>\n",
       "      <td>Gaming</td>\n",
       "      <td>15</td>\n",
       "      <td>16</td>\n",
       "      <td>Windows 10</td>\n",
       "      <td>3.21</td>\n",
       "      <td>2051.00</td>\n",
       "      <td>Full HD</td>\n",
       "      <td>1920</td>\n",
       "      <td>...</td>\n",
       "      <td>No</td>\n",
       "      <td>Intel</td>\n",
       "      <td>2.5</td>\n",
       "      <td>Core i5 7300HQ</td>\n",
       "      <td>128</td>\n",
       "      <td>1024</td>\n",
       "      <td>SSD</td>\n",
       "      <td>HDD</td>\n",
       "      <td>Nvidia</td>\n",
       "      <td>GeForce GTX 1060</td>\n",
       "    </tr>\n",
       "  </tbody>\n",
       "</table>\n",
       "<p>5 rows × 23 columns</p>\n",
       "</div>"
      ],
      "text/plain": [
       "     Company        Product   TypeName  Inches  Ram       OpSys  Weight  \\\n",
       "1235      HP  EliteBook 840  Ultrabook      14    8   Windows 7    1.54   \n",
       "13      Dell  Inspiron 3567   Notebook      15    4  Windows 10    2.20   \n",
       "984     Dell  Inspiron 3567   Notebook      15    4  Windows 10    2.25   \n",
       "1197    Acer       Aspire 3   Notebook      15    4       Linux    2.10   \n",
       "682     Dell   Alienware 15     Gaming      15   16  Windows 10    3.21   \n",
       "\n",
       "      Price_euros    Screen  ScreenW  ...  RetinaDisplay CPU_company CPU_freq  \\\n",
       "1235      2198.19  Standard     2560  ...             No       Intel      2.5   \n",
       "13         498.90   Full HD     1920  ...             No       Intel      2.0   \n",
       "984        599.00  Standard     1366  ...             No       Intel      2.5   \n",
       "1197       272.00  Standard     1366  ...             No       Intel      2.0   \n",
       "682       2051.00   Full HD     1920  ...             No       Intel      2.5   \n",
       "\n",
       "                    CPU_model PrimaryStorage  SecondaryStorage  \\\n",
       "1235            Core i7 6500U            256                 0   \n",
       "13              Core i3 6006U            256                 0   \n",
       "984             Core i5 7200U            500                 0   \n",
       "1197  Celeron Dual Core N3350           1024                 0   \n",
       "682            Core i5 7300HQ            128              1024   \n",
       "\n",
       "     PrimaryStorageType  SecondaryStorageType  GPU_company         GPU_model  \n",
       "1235                SSD                    No        Intel   HD Graphics 520  \n",
       "13                  SSD                    No          AMD    Radeon R5 M430  \n",
       "984                 HDD                    No          AMD    Radeon R5 M430  \n",
       "1197                HDD                    No        Intel   HD Graphics 500  \n",
       "682                 SSD                   HDD       Nvidia  GeForce GTX 1060  \n",
       "\n",
       "[5 rows x 23 columns]"
      ]
     },
     "execution_count": 682,
     "metadata": {},
     "output_type": "execute_result"
    }
   ],
   "source": [
    "df = pd.read_csv(\"./Dataset/laptop_price_cleaned.csv\", encoding='ISO-8859-1')\n",
    "df.sample(n=5)"
   ]
  },
  {
   "cell_type": "markdown",
   "metadata": {},
   "source": [
    "Vì để đề xuất 1 sản phẩm laptop từ 1 cấu hình yêu thích, ta có thể bỏ đi các cột như là tên sản phẩm, hệ điều hành, công ty sản xuất là những cột không cần thiết."
   ]
  },
  {
   "cell_type": "code",
   "execution_count": 683,
   "metadata": {},
   "outputs": [],
   "source": [
    "X = df.drop(columns=['Price_euros', 'Product', 'OpSys', 'Company'])\n",
    "y = df['Price_euros']"
   ]
  },
  {
   "cell_type": "markdown",
   "metadata": {},
   "source": [
    "Tạo 1 cấu hình mặc định bằng cách lấy `mode` và `mean` từ dữ liệu đầu vào."
   ]
  },
  {
   "cell_type": "code",
   "execution_count": 684,
   "metadata": {},
   "outputs": [
    {
     "data": {
      "text/plain": [
       "{'TypeName': ['Notebook'],\n",
       " 'Inches': [15],\n",
       " 'Ram': [8],\n",
       " 'Weight': [2.040557299843014],\n",
       " 'Screen': ['Full HD'],\n",
       " 'ScreenW': [1920],\n",
       " 'ScreenH': [1080],\n",
       " 'Touchscreen': ['No'],\n",
       " 'IPSpanel': ['No'],\n",
       " 'RetinaDisplay': ['No'],\n",
       " 'CPU_company': ['Intel'],\n",
       " 'CPU_freq': [2.3026687598116173],\n",
       " 'CPU_model': ['Core i5 7200U'],\n",
       " 'PrimaryStorage': [256],\n",
       " 'SecondaryStorage': [0],\n",
       " 'PrimaryStorageType': ['SSD'],\n",
       " 'SecondaryStorageType': ['No'],\n",
       " 'GPU_company': ['Intel'],\n",
       " 'GPU_model': ['HD Graphics 620']}"
      ]
     },
     "execution_count": 684,
     "metadata": {},
     "output_type": "execute_result"
    }
   ],
   "source": [
    "categorical_cols = ['TypeName', 'Touchscreen', 'IPSpanel', 'RetinaDisplay', 'PrimaryStorageType', 'SecondaryStorageType', 'CPU_company', 'CPU_model', 'GPU_company', \n",
    "                    'GPU_model', 'Screen' , 'Inches', 'Ram', 'ScreenW', 'ScreenH', 'PrimaryStorage', 'SecondaryStorage']\n",
    "numerical_cols = ['Weight', 'CPU_freq']\n",
    "\n",
    "default_values = {}\n",
    "for col in X.columns:\n",
    "    if col in categorical_cols:\n",
    "        default_values[col] =  [X[col].mode()[0]]\n",
    "    elif col in numerical_cols:\n",
    "        default_values[col] = [X[col].mean()]\n",
    "default_values"
   ]
  },
  {
   "cell_type": "code",
   "execution_count": null,
   "metadata": {},
   "outputs": [],
   "source": [
    "# Mã hóa các đặc trưng categorical.\n",
    "encoders = {}\n",
    "for col in categorical_cols:\n",
    "    le = LabelEncoder()\n",
    "    X[col] = le.fit_transform(X[col])\n",
    "    encoders[col] = le"
   ]
  },
  {
   "cell_type": "code",
   "execution_count": 691,
   "metadata": {},
   "outputs": [],
   "source": [
    "# Chia tập train và test theo tỉ lệ 8:2\n",
    "X_train, X_test, y_train, y_test = train_test_split(X, y, test_size=0.2, random_state=42)"
   ]
  },
  {
   "cell_type": "code",
   "execution_count": null,
   "metadata": {},
   "outputs": [],
   "source": [
    "# Sử dụng thuật toán KNN vớ sẽ lấy i trung bình của dữ liệu gần nhất.\n",
    "knn = KNeighborsRegressor(n_neighbors=3)\n",
    "knn.fit(X_train, y_train)\n",
    "y_pred = knn.predict(X_test)"
   ]
  },
  {
   "cell_type": "code",
   "execution_count": 688,
   "metadata": {},
   "outputs": [
    {
     "name": "stdout",
     "output_type": "stream",
     "text": [
      "MSE = 108556.08\n",
      "RMSE = 329.48\n"
     ]
    }
   ],
   "source": [
    "# Tính các chỉ số sai số\n",
    "mse = mean_squared_error(y_test, y_pred)\n",
    "rmse = np.sqrt(mse)\n",
    "\n",
    "print(f'MSE = {mse:.2f}')\n",
    "print(f'RMSE = {rmse:.2f}')"
   ]
  },
  {
   "cell_type": "markdown",
   "metadata": {},
   "source": [
    "-> Có thể thấy được ước lượng khá tốt."
   ]
  },
  {
   "cell_type": "markdown",
   "metadata": {},
   "source": [
    "Lấy ra 1 cấu hình ưa thích và sẽ dự đoán giá."
   ]
  },
  {
   "cell_type": "code",
   "execution_count": 689,
   "metadata": {},
   "outputs": [],
   "source": [
    "favor_config = pd.DataFrame({\n",
    "    'TypeName': ['Gaming'],\n",
    "    'Inches': [15],\n",
    "    'Ram': [16],\n",
    "    'Weight': [2.5],\n",
    "    # 'Screen': ['Full HD'],\n",
    "    # 'ScreenW': [1920],\n",
    "    # 'ScreenH': [1080],\n",
    "    # 'Touchscreen': ['No'],\n",
    "    # 'IPSpanel': ['Yes'],\n",
    "    # 'RetinaDisplay': ['No'],\n",
    "    # 'CPU_company': ['Intel'],\n",
    "    # 'CPU_freq': [3.2],\n",
    "    # 'CPU_model': ['Core i5 8250U'],\n",
    "    'PrimaryStorage': [256],\n",
    "    'PrimaryStorageType': ['SSD'],\n",
    "    # 'SecondaryStorage': [0],\n",
    "    'SecondaryStorageType': ['No'],\n",
    "    'GPU_company': ['Nvidia'],\n",
    "    # 'GPU_model': ['GeForce 930MX']\n",
    "})"
   ]
  },
  {
   "cell_type": "code",
   "execution_count": 690,
   "metadata": {},
   "outputs": [
    {
     "name": "stdout",
     "output_type": "stream",
     "text": [
      "Dự đoán giá cho cấu hình mới: 1064.00 Euros\n"
     ]
    }
   ],
   "source": [
    "# Điền các dữ liệu còn thiếu từ default_config cho favor_config\n",
    "for col in X.columns:\n",
    "    if col not in favor_config.columns:\n",
    "        favor_config[col] = default_values[col]\n",
    "\n",
    "# Mã hóa lại các thuộc tính categorical.\n",
    "for col in categorical_cols:\n",
    "    favor_config[col] = encoders[col].transform(favor_config[col])\n",
    "\n",
    "# Sắp xếp lại theo thứ tự các đặc trưng để tiến hành dự đoán    \n",
    "favor_config = favor_config[X.columns]\n",
    "\n",
    "# Dự đoán giá cho favor_config\n",
    "predicted_price = knn.predict(favor_config)\n",
    "print(f\"Dự đoán giá cho cấu hình mới: {predicted_price[0]:.2f} Euros\")"
   ]
  },
  {
   "cell_type": "markdown",
   "metadata": {},
   "source": [
    "Với mức giá này khá hợp lí cho 1 con laptop gaming có card đồ họa rời."
   ]
  },
  {
   "cell_type": "markdown",
   "metadata": {},
   "source": [
    "## V. Nhận xét quá trình làm đồ án  <a id=\"v\"></a>"
   ]
  },
  {
   "cell_type": "markdown",
   "metadata": {},
   "source": [
    "### 1. Thành viên 1  <a id=\"v1\"></a>"
   ]
  },
  {
   "cell_type": "markdown",
   "metadata": {},
   "source": [
    "### 2. Thành viên 2  <a id=\"v2\"></a>"
   ]
  },
  {
   "cell_type": "markdown",
   "metadata": {},
   "source": [
    "### 3. Thành viên 3  <a id=\"v3\"></a>"
   ]
  },
  {
   "cell_type": "markdown",
   "metadata": {},
   "source": [
    "### 4. Ý kiến nhóm  <a id=\"v4\"></a>"
   ]
  },
  {
   "cell_type": "markdown",
   "metadata": {},
   "source": [
    "Nếu có thêm thời gian thì làm gì?"
   ]
  },
  {
   "cell_type": "markdown",
   "metadata": {},
   "source": [
    "## Tài liệu tham khảo  <a id=\"tltk\"></a>"
   ]
  }
 ],
 "metadata": {
  "kernelspec": {
   "display_name": "min_ds-env",
   "language": "python",
   "name": "python3"
  },
  "language_info": {
   "codemirror_mode": {
    "name": "ipython",
    "version": 3
   },
   "file_extension": ".py",
   "mimetype": "text/x-python",
   "name": "python",
   "nbconvert_exporter": "python",
   "pygments_lexer": "ipython3",
   "version": "3.10.8"
  }
 },
 "nbformat": 4,
 "nbformat_minor": 2
}
